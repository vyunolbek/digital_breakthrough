{
  "cells": [
    {
      "cell_type": "markdown",
      "metadata": {
        "id": "PoHl2-y-agDg"
      },
      "source": [
        "# Run"
      ]
    },
    {
      "cell_type": "code",
      "execution_count": null,
      "metadata": {
        "id": "2A22wRGj1_bJ"
      },
      "outputs": [],
      "source": [
        "%pip install osmnx scikit-learn folium"
      ]
    },
    {
      "cell_type": "code",
      "execution_count": 2,
      "metadata": {
        "id": "MGpAswTy2CVx"
      },
      "outputs": [],
      "source": [
        "import osmnx as ox\n",
        "import networkx as nx"
      ]
    },
    {
      "cell_type": "code",
      "execution_count": 3,
      "metadata": {
        "id": "3D5KnRA_2FOD"
      },
      "outputs": [],
      "source": [
        "ox.settings.log_console=True"
      ]
    },
    {
      "cell_type": "code",
      "execution_count": 4,
      "metadata": {
        "id": "RnsGnShO2G18"
      },
      "outputs": [],
      "source": [
        "start_point = (43.990019, 56.329880)\n",
        "end_point = (43.992332, 56.329294)"
      ]
    },
    {
      "cell_type": "code",
      "execution_count": 5,
      "metadata": {
        "id": "8bz90vzc2If3"
      },
      "outputs": [],
      "source": [
        "place = \"Nizhniy Novgorod\"\n",
        "mode = \"drive\"\n",
        "optimizer = \"time\""
      ]
    },
    {
      "cell_type": "code",
      "execution_count": 6,
      "metadata": {
        "id": "Q519w_IU2KPT"
      },
      "outputs": [],
      "source": [
        "graph = ox.graph_from_place(place, network_type=mode)"
      ]
    },
    {
      "cell_type": "code",
      "execution_count": 7,
      "metadata": {
        "id": "bDSfmTFD2MYN"
      },
      "outputs": [],
      "source": [
        "orig_node = ox.distance.nearest_nodes(graph, start_point[0], start_point[1])\n",
        "dest_node = ox.distance.nearest_nodes(graph, end_point[0], end_point[1])"
      ]
    },
    {
      "cell_type": "code",
      "execution_count": 8,
      "metadata": {
        "id": "_YT_HnNH4jl3"
      },
      "outputs": [],
      "source": [
        "shortest_route = nx.shortest_path(graph,\n",
        "                                  orig_node,\n",
        "                                  dest_node,\n",
        "                                  weight=optimizer)"
      ]
    },
    {
      "cell_type": "code",
      "execution_count": 9,
      "metadata": {
        "colab": {
          "base_uri": "https://localhost:8080/"
        },
        "id": "vx9DGIjY4mK8",
        "outputId": "e4dace67-8239-4a70-e531-64b69415a5c9"
      },
      "outputs": [
        {
          "name": "stderr",
          "output_type": "stream",
          "text": [
            "/tmp/ipykernel_56293/1945478444.py:1: UserWarning: The `folium` module has been deprecated and will be removed in a future release. You can generate and explore interactive web maps of graph nodes, edges, and/or routes automatically using GeoPandas.GeoDataFrame.explore instead, for example like: `ox.graph_to_gdfs(G, nodes=False).explore()`. See the OSMnx examples gallery for complete details and demonstrations.\n",
            "  shortest_route_map = ox.plot_route_folium(graph, shortest_route)\n"
          ]
        }
      ],
      "source": [
        "shortest_route_map = ox.plot_route_folium(graph, shortest_route)"
      ]
    },
    {
      "cell_type": "code",
      "execution_count": 10,
      "metadata": {
        "colab": {
          "base_uri": "https://localhost:8080/",
          "height": 650
        },
        "id": "5bHASe9v4ofE",
        "outputId": "ed0a1740-e306-4b92-efe9-59dd80bce8cf"
      },
      "outputs": [
        {
          "data": {
            "text/html": [
              "<div style=\"width:100%;\"><div style=\"position:relative;width:100%;height:0;padding-bottom:60%;\"><span style=\"color:#565656\">Make this Notebook Trusted to load map: File -> Trust Notebook</span><iframe srcdoc=\"&lt;!DOCTYPE html&gt;\n",
              "&lt;html&gt;\n",
              "&lt;head&gt;\n",
              "    \n",
              "    &lt;meta http-equiv=&quot;content-type&quot; content=&quot;text/html; charset=UTF-8&quot; /&gt;\n",
              "    \n",
              "        &lt;script&gt;\n",
              "            L_NO_TOUCH = false;\n",
              "            L_DISABLE_3D = false;\n",
              "        &lt;/script&gt;\n",
              "    \n",
              "    &lt;style&gt;html, body {width: 100%;height: 100%;margin: 0;padding: 0;}&lt;/style&gt;\n",
              "    &lt;style&gt;#map {position:absolute;top:0;bottom:0;right:0;left:0;}&lt;/style&gt;\n",
              "    &lt;script src=&quot;https://cdn.jsdelivr.net/npm/leaflet@1.9.3/dist/leaflet.js&quot;&gt;&lt;/script&gt;\n",
              "    &lt;script src=&quot;https://code.jquery.com/jquery-1.12.4.min.js&quot;&gt;&lt;/script&gt;\n",
              "    &lt;script src=&quot;https://cdn.jsdelivr.net/npm/bootstrap@5.2.2/dist/js/bootstrap.bundle.min.js&quot;&gt;&lt;/script&gt;\n",
              "    &lt;script src=&quot;https://cdnjs.cloudflare.com/ajax/libs/Leaflet.awesome-markers/2.0.2/leaflet.awesome-markers.js&quot;&gt;&lt;/script&gt;\n",
              "    &lt;link rel=&quot;stylesheet&quot; href=&quot;https://cdn.jsdelivr.net/npm/leaflet@1.9.3/dist/leaflet.css&quot;/&gt;\n",
              "    &lt;link rel=&quot;stylesheet&quot; href=&quot;https://cdn.jsdelivr.net/npm/bootstrap@5.2.2/dist/css/bootstrap.min.css&quot;/&gt;\n",
              "    &lt;link rel=&quot;stylesheet&quot; href=&quot;https://netdna.bootstrapcdn.com/bootstrap/3.0.0/css/bootstrap.min.css&quot;/&gt;\n",
              "    &lt;link rel=&quot;stylesheet&quot; href=&quot;https://cdn.jsdelivr.net/npm/@fortawesome/fontawesome-free@6.2.0/css/all.min.css&quot;/&gt;\n",
              "    &lt;link rel=&quot;stylesheet&quot; href=&quot;https://cdnjs.cloudflare.com/ajax/libs/Leaflet.awesome-markers/2.0.2/leaflet.awesome-markers.css&quot;/&gt;\n",
              "    &lt;link rel=&quot;stylesheet&quot; href=&quot;https://cdn.jsdelivr.net/gh/python-visualization/folium/folium/templates/leaflet.awesome.rotate.min.css&quot;/&gt;\n",
              "    \n",
              "            &lt;meta name=&quot;viewport&quot; content=&quot;width=device-width,\n",
              "                initial-scale=1.0, maximum-scale=1.0, user-scalable=no&quot; /&gt;\n",
              "            &lt;style&gt;\n",
              "                #map_74d1c3dfe3cbaac0fcbf756ff6deb069 {\n",
              "                    position: relative;\n",
              "                    width: 100.0%;\n",
              "                    height: 100.0%;\n",
              "                    left: 0.0%;\n",
              "                    top: 0.0%;\n",
              "                }\n",
              "                .leaflet-container { font-size: 1rem; }\n",
              "            &lt;/style&gt;\n",
              "        \n",
              "&lt;/head&gt;\n",
              "&lt;body&gt;\n",
              "    \n",
              "    \n",
              "            &lt;div class=&quot;folium-map&quot; id=&quot;map_74d1c3dfe3cbaac0fcbf756ff6deb069&quot; &gt;&lt;/div&gt;\n",
              "        \n",
              "&lt;/body&gt;\n",
              "&lt;script&gt;\n",
              "    \n",
              "    \n",
              "            var map_74d1c3dfe3cbaac0fcbf756ff6deb069 = L.map(\n",
              "                &quot;map_74d1c3dfe3cbaac0fcbf756ff6deb069&quot;,\n",
              "                {\n",
              "                    center: [56.33004356538531, 43.991277429078266],\n",
              "                    crs: L.CRS.EPSG3857,\n",
              "                    zoom: 1,\n",
              "                    zoomControl: true,\n",
              "                    preferCanvas: false,\n",
              "                }\n",
              "            );\n",
              "\n",
              "            \n",
              "\n",
              "        \n",
              "    \n",
              "            var tile_layer_f28ba0aa56799ac0bfe074fd5f937c4a = L.tileLayer(\n",
              "                &quot;https://cartodb-basemaps-{s}.global.ssl.fastly.net/light_all/{z}/{x}/{y}.png&quot;,\n",
              "                {&quot;attribution&quot;: &quot;\\u0026copy; \\u003ca target=\\&quot;_blank\\&quot; href=\\&quot;http://www.openstreetmap.org/copyright\\&quot;\\u003eOpenStreetMap\\u003c/a\\u003e contributors \\u0026copy; \\u003ca target=\\&quot;_blank\\&quot; href=\\&quot;http://cartodb.com/attributions\\&quot;\\u003eCartoDB\\u003c/a\\u003e, CartoDB \\u003ca target=\\&quot;_blank\\&quot; href =\\&quot;http://cartodb.com/attributions\\&quot;\\u003eattributions\\u003c/a\\u003e&quot;, &quot;detectRetina&quot;: false, &quot;maxNativeZoom&quot;: 18, &quot;maxZoom&quot;: 18, &quot;minZoom&quot;: 0, &quot;noWrap&quot;: false, &quot;opacity&quot;: 1, &quot;subdomains&quot;: &quot;abc&quot;, &quot;tms&quot;: false}\n",
              "            ).addTo(map_74d1c3dfe3cbaac0fcbf756ff6deb069);\n",
              "        \n",
              "    \n",
              "            var poly_line_5ebe4efbf346741f44cf3e65b3c19c61 = L.polyline(\n",
              "                [[56.3299524, 43.9900443], [56.3301168, 43.9905994], [56.330268, 43.9911361], [56.3303145, 43.9913391], [56.3303656, 43.9915624]],\n",
              "                {&quot;bubblingMouseEvents&quot;: true, &quot;color&quot;: &quot;#3388ff&quot;, &quot;dashArray&quot;: null, &quot;dashOffset&quot;: null, &quot;fill&quot;: false, &quot;fillColor&quot;: &quot;#3388ff&quot;, &quot;fillOpacity&quot;: 0.2, &quot;fillRule&quot;: &quot;evenodd&quot;, &quot;lineCap&quot;: &quot;round&quot;, &quot;lineJoin&quot;: &quot;round&quot;, &quot;noClip&quot;: false, &quot;opacity&quot;: 1.0, &quot;smoothFactor&quot;: 1.0, &quot;stroke&quot;: true, &quot;weight&quot;: 3}\n",
              "            ).addTo(map_74d1c3dfe3cbaac0fcbf756ff6deb069);\n",
              "        \n",
              "    \n",
              "            var poly_line_8769f271fe549785eb6a2bbb80197a70 = L.polyline(\n",
              "                [[56.3303656, 43.9915624], [56.3302507, 43.9916417], [56.3302156, 43.9916663], [56.3300674, 43.9917694], [56.3300348, 43.9917927], [56.329773, 43.9919801], [56.3297462, 43.9919992], [56.3296548, 43.9920634], [56.329444, 43.9922202], [56.3293947, 43.9922556]],\n",
              "                {&quot;bubblingMouseEvents&quot;: true, &quot;color&quot;: &quot;#3388ff&quot;, &quot;dashArray&quot;: null, &quot;dashOffset&quot;: null, &quot;fill&quot;: false, &quot;fillColor&quot;: &quot;#3388ff&quot;, &quot;fillOpacity&quot;: 0.2, &quot;fillRule&quot;: &quot;evenodd&quot;, &quot;lineCap&quot;: &quot;round&quot;, &quot;lineJoin&quot;: &quot;round&quot;, &quot;noClip&quot;: false, &quot;opacity&quot;: 1.0, &quot;smoothFactor&quot;: 1.0, &quot;stroke&quot;: true, &quot;weight&quot;: 3}\n",
              "            ).addTo(map_74d1c3dfe3cbaac0fcbf756ff6deb069);\n",
              "        \n",
              "    \n",
              "            map_74d1c3dfe3cbaac0fcbf756ff6deb069.fitBounds(\n",
              "                [[56.3293947, 43.9900443], [56.3303656, 43.9922556]],\n",
              "                {}\n",
              "            );\n",
              "        \n",
              "&lt;/script&gt;\n",
              "&lt;/html&gt;\" style=\"position:absolute;width:100%;height:100%;left:0;top:0;border:none !important;\" allowfullscreen webkitallowfullscreen mozallowfullscreen></iframe></div></div>"
            ],
            "text/plain": [
              "<folium.folium.Map at 0x7f31796878d0>"
            ]
          },
          "execution_count": 10,
          "metadata": {},
          "output_type": "execute_result"
        }
      ],
      "source": [
        "shortest_route_map"
      ]
    },
    {
      "cell_type": "markdown",
      "metadata": {
        "id": "exZ046DIbJJN"
      },
      "source": [
        "### Using Yolo"
      ]
    },
    {
      "cell_type": "code",
      "execution_count": 11,
      "metadata": {
        "id": "peli_krrbK69"
      },
      "outputs": [
        {
          "name": "stdout",
          "output_type": "stream",
          "text": [
            "Requirement already satisfied: ultralytics in /home/vyunov/anaconda3/envs/train/lib/python3.11/site-packages (8.0.166)\n",
            "Requirement already satisfied: matplotlib>=3.2.2 in /home/vyunov/anaconda3/envs/train/lib/python3.11/site-packages (from ultralytics) (3.7.2)\n",
            "Requirement already satisfied: numpy>=1.22.2 in /home/vyunov/anaconda3/envs/train/lib/python3.11/site-packages (from ultralytics) (1.25.2)\n",
            "Requirement already satisfied: opencv-python>=4.6.0 in /home/vyunov/anaconda3/envs/train/lib/python3.11/site-packages (from ultralytics) (4.8.0.76)\n",
            "Requirement already satisfied: pillow>=7.1.2 in /home/vyunov/anaconda3/envs/train/lib/python3.11/site-packages (from ultralytics) (10.0.0)\n",
            "Requirement already satisfied: pyyaml>=5.3.1 in /home/vyunov/anaconda3/envs/train/lib/python3.11/site-packages (from ultralytics) (6.0.1)\n",
            "Requirement already satisfied: requests>=2.23.0 in /home/vyunov/anaconda3/envs/train/lib/python3.11/site-packages (from ultralytics) (2.31.0)\n",
            "Requirement already satisfied: scipy>=1.4.1 in /home/vyunov/anaconda3/envs/train/lib/python3.11/site-packages (from ultralytics) (1.11.2)\n",
            "Requirement already satisfied: torch>=1.8.0 in /home/vyunov/anaconda3/envs/train/lib/python3.11/site-packages (from ultralytics) (2.0.1)\n",
            "Requirement already satisfied: torchvision>=0.9.0 in /home/vyunov/anaconda3/envs/train/lib/python3.11/site-packages (from ultralytics) (0.15.2)\n",
            "Requirement already satisfied: tqdm>=4.64.0 in /home/vyunov/anaconda3/envs/train/lib/python3.11/site-packages (from ultralytics) (4.66.1)\n",
            "Requirement already satisfied: pandas>=1.1.4 in /home/vyunov/anaconda3/envs/train/lib/python3.11/site-packages (from ultralytics) (2.0.3)\n",
            "Requirement already satisfied: seaborn>=0.11.0 in /home/vyunov/anaconda3/envs/train/lib/python3.11/site-packages (from ultralytics) (0.12.2)\n",
            "Requirement already satisfied: psutil in /home/vyunov/anaconda3/envs/train/lib/python3.11/site-packages (from ultralytics) (5.9.0)\n",
            "Requirement already satisfied: py-cpuinfo in /home/vyunov/anaconda3/envs/train/lib/python3.11/site-packages (from ultralytics) (9.0.0)\n",
            "Requirement already satisfied: contourpy>=1.0.1 in /home/vyunov/anaconda3/envs/train/lib/python3.11/site-packages (from matplotlib>=3.2.2->ultralytics) (1.1.0)\n",
            "Requirement already satisfied: cycler>=0.10 in /home/vyunov/anaconda3/envs/train/lib/python3.11/site-packages (from matplotlib>=3.2.2->ultralytics) (0.11.0)\n",
            "Requirement already satisfied: fonttools>=4.22.0 in /home/vyunov/anaconda3/envs/train/lib/python3.11/site-packages (from matplotlib>=3.2.2->ultralytics) (4.42.1)\n",
            "Requirement already satisfied: kiwisolver>=1.0.1 in /home/vyunov/anaconda3/envs/train/lib/python3.11/site-packages (from matplotlib>=3.2.2->ultralytics) (1.4.5)\n",
            "Requirement already satisfied: packaging>=20.0 in /home/vyunov/anaconda3/envs/train/lib/python3.11/site-packages (from matplotlib>=3.2.2->ultralytics) (23.1)\n",
            "Requirement already satisfied: pyparsing<3.1,>=2.3.1 in /home/vyunov/anaconda3/envs/train/lib/python3.11/site-packages (from matplotlib>=3.2.2->ultralytics) (3.0.9)\n",
            "Requirement already satisfied: python-dateutil>=2.7 in /home/vyunov/anaconda3/envs/train/lib/python3.11/site-packages (from matplotlib>=3.2.2->ultralytics) (2.8.2)\n",
            "Requirement already satisfied: pytz>=2020.1 in /home/vyunov/anaconda3/envs/train/lib/python3.11/site-packages (from pandas>=1.1.4->ultralytics) (2023.3)\n",
            "Requirement already satisfied: tzdata>=2022.1 in /home/vyunov/anaconda3/envs/train/lib/python3.11/site-packages (from pandas>=1.1.4->ultralytics) (2023.3)\n",
            "Requirement already satisfied: charset-normalizer<4,>=2 in /home/vyunov/anaconda3/envs/train/lib/python3.11/site-packages (from requests>=2.23.0->ultralytics) (3.2.0)\n",
            "Requirement already satisfied: idna<4,>=2.5 in /home/vyunov/anaconda3/envs/train/lib/python3.11/site-packages (from requests>=2.23.0->ultralytics) (3.4)\n",
            "Requirement already satisfied: urllib3<3,>=1.21.1 in /home/vyunov/anaconda3/envs/train/lib/python3.11/site-packages (from requests>=2.23.0->ultralytics) (2.0.4)\n",
            "Requirement already satisfied: certifi>=2017.4.17 in /home/vyunov/anaconda3/envs/train/lib/python3.11/site-packages (from requests>=2.23.0->ultralytics) (2023.7.22)\n",
            "Requirement already satisfied: filelock in /home/vyunov/anaconda3/envs/train/lib/python3.11/site-packages (from torch>=1.8.0->ultralytics) (3.12.3)\n",
            "Requirement already satisfied: typing-extensions in /home/vyunov/anaconda3/envs/train/lib/python3.11/site-packages (from torch>=1.8.0->ultralytics) (4.7.1)\n",
            "Requirement already satisfied: sympy in /home/vyunov/anaconda3/envs/train/lib/python3.11/site-packages (from torch>=1.8.0->ultralytics) (1.12)\n",
            "Requirement already satisfied: networkx in /home/vyunov/anaconda3/envs/train/lib/python3.11/site-packages (from torch>=1.8.0->ultralytics) (3.1)\n",
            "Requirement already satisfied: jinja2 in /home/vyunov/anaconda3/envs/train/lib/python3.11/site-packages (from torch>=1.8.0->ultralytics) (3.1.2)\n",
            "Requirement already satisfied: nvidia-cuda-nvrtc-cu11==11.7.99 in /home/vyunov/anaconda3/envs/train/lib/python3.11/site-packages (from torch>=1.8.0->ultralytics) (11.7.99)\n",
            "Requirement already satisfied: nvidia-cuda-runtime-cu11==11.7.99 in /home/vyunov/anaconda3/envs/train/lib/python3.11/site-packages (from torch>=1.8.0->ultralytics) (11.7.99)\n",
            "Requirement already satisfied: nvidia-cuda-cupti-cu11==11.7.101 in /home/vyunov/anaconda3/envs/train/lib/python3.11/site-packages (from torch>=1.8.0->ultralytics) (11.7.101)\n",
            "Requirement already satisfied: nvidia-cudnn-cu11==8.5.0.96 in /home/vyunov/anaconda3/envs/train/lib/python3.11/site-packages (from torch>=1.8.0->ultralytics) (8.5.0.96)\n",
            "Requirement already satisfied: nvidia-cublas-cu11==11.10.3.66 in /home/vyunov/anaconda3/envs/train/lib/python3.11/site-packages (from torch>=1.8.0->ultralytics) (11.10.3.66)\n",
            "Requirement already satisfied: nvidia-cufft-cu11==10.9.0.58 in /home/vyunov/anaconda3/envs/train/lib/python3.11/site-packages (from torch>=1.8.0->ultralytics) (10.9.0.58)\n",
            "Requirement already satisfied: nvidia-curand-cu11==10.2.10.91 in /home/vyunov/anaconda3/envs/train/lib/python3.11/site-packages (from torch>=1.8.0->ultralytics) (10.2.10.91)\n",
            "Requirement already satisfied: nvidia-cusolver-cu11==11.4.0.1 in /home/vyunov/anaconda3/envs/train/lib/python3.11/site-packages (from torch>=1.8.0->ultralytics) (11.4.0.1)\n",
            "Requirement already satisfied: nvidia-cusparse-cu11==11.7.4.91 in /home/vyunov/anaconda3/envs/train/lib/python3.11/site-packages (from torch>=1.8.0->ultralytics) (11.7.4.91)\n",
            "Requirement already satisfied: nvidia-nccl-cu11==2.14.3 in /home/vyunov/anaconda3/envs/train/lib/python3.11/site-packages (from torch>=1.8.0->ultralytics) (2.14.3)\n",
            "Requirement already satisfied: nvidia-nvtx-cu11==11.7.91 in /home/vyunov/anaconda3/envs/train/lib/python3.11/site-packages (from torch>=1.8.0->ultralytics) (11.7.91)\n",
            "Requirement already satisfied: triton==2.0.0 in /home/vyunov/anaconda3/envs/train/lib/python3.11/site-packages (from torch>=1.8.0->ultralytics) (2.0.0)\n",
            "Requirement already satisfied: setuptools in /home/vyunov/anaconda3/envs/train/lib/python3.11/site-packages (from nvidia-cublas-cu11==11.10.3.66->torch>=1.8.0->ultralytics) (68.0.0)\n",
            "Requirement already satisfied: wheel in /home/vyunov/anaconda3/envs/train/lib/python3.11/site-packages (from nvidia-cublas-cu11==11.10.3.66->torch>=1.8.0->ultralytics) (0.38.4)\n",
            "Requirement already satisfied: cmake in /home/vyunov/anaconda3/envs/train/lib/python3.11/site-packages (from triton==2.0.0->torch>=1.8.0->ultralytics) (3.27.2)\n",
            "Requirement already satisfied: lit in /home/vyunov/anaconda3/envs/train/lib/python3.11/site-packages (from triton==2.0.0->torch>=1.8.0->ultralytics) (16.0.6)\n",
            "Requirement already satisfied: six>=1.5 in /home/vyunov/anaconda3/envs/train/lib/python3.11/site-packages (from python-dateutil>=2.7->matplotlib>=3.2.2->ultralytics) (1.16.0)\n",
            "Requirement already satisfied: MarkupSafe>=2.0 in /home/vyunov/anaconda3/envs/train/lib/python3.11/site-packages (from jinja2->torch>=1.8.0->ultralytics) (2.1.3)\n",
            "Requirement already satisfied: mpmath>=0.19 in /home/vyunov/anaconda3/envs/train/lib/python3.11/site-packages (from sympy->torch>=1.8.0->ultralytics) (1.3.0)\n",
            "Note: you may need to restart the kernel to use updated packages.\n"
          ]
        }
      ],
      "source": [
        "%pip install ultralytics"
      ]
    },
    {
      "cell_type": "code",
      "execution_count": 12,
      "metadata": {
        "id": "zp2iwk77dLeq"
      },
      "outputs": [
        {
          "name": "stdout",
          "output_type": "stream",
          "text": [
            "Requirement already satisfied: gpsphoto in /home/vyunov/anaconda3/envs/train/lib/python3.11/site-packages (2.2.3)\n",
            "Requirement already satisfied: exifread in /home/vyunov/anaconda3/envs/train/lib/python3.11/site-packages (3.0.0)\n",
            "Requirement already satisfied: piexif in /home/vyunov/anaconda3/envs/train/lib/python3.11/site-packages (1.1.3)\n",
            "Note: you may need to restart the kernel to use updated packages.\n"
          ]
        }
      ],
      "source": [
        "%pip install gpsphoto exifread piexif"
      ]
    },
    {
      "cell_type": "code",
      "execution_count": 13,
      "metadata": {
        "id": "AnuPrh95d0-P"
      },
      "outputs": [],
      "source": [
        "from ultralytics import YOLO\n",
        "from GPSPhoto import gpsphoto\n",
        "import folium"
      ]
    },
    {
      "cell_type": "code",
      "execution_count": 14,
      "metadata": {
        "colab": {
          "base_uri": "https://localhost:8080/"
        },
        "id": "OgkNjDdubPyk",
        "outputId": "328822de-339d-457d-e411-0f31f3a166e6"
      },
      "outputs": [
        {
          "name": "stderr",
          "output_type": "stream",
          "text": [
            "\n",
            "0: 384x640 2 D40s, 1 D50, 1: 384x640 2 D40s, 1 D50, 2: 384x640 1 D40, 1 D50, 458.3ms\n",
            "Speed: 5.2ms preprocess, 152.8ms inference, 0.7ms postprocess per image at shape (1, 3, 384, 640)\n"
          ]
        }
      ],
      "source": [
        "model = YOLO('./models/best_4th.pt')\n",
        "\n",
        "results = model(['./gps_data/img1.jpg',\n",
        "                 './gps_data/img2.jpg',\n",
        "                 './gps_data/img3.jpg'])\n",
        "\n",
        "for i in range(3):\n",
        "  if len(results[i].boxes) > 0:\n",
        "    data = gpsphoto.getGPSData(f'./gps_data/img{i + 1}.jpg')\n",
        "\n",
        "    folium.Marker(location = (data['Latitude'], data['Longitude']),\n",
        "                  popup = f'type: pit\\ncount: {len(results[i].boxes)}',\n",
        "                  icon = folium.Icon(color='red')).add_to(shortest_route_map)"
      ]
    },
    {
      "cell_type": "code",
      "execution_count": 15,
      "metadata": {
        "colab": {
          "base_uri": "https://localhost:8080/"
        },
        "id": "vdBC7o4Ogq_5",
        "outputId": "75b7a09a-a35e-4729-c692-b51fdb156dd6"
      },
      "outputs": [
        {
          "data": {
            "text/plain": [
              "<folium.map.Marker at 0x7f307d13cb90>"
            ]
          },
          "execution_count": 15,
          "metadata": {},
          "output_type": "execute_result"
        }
      ],
      "source": [
        "start = folium.Marker(\n",
        "            location = (43.990019, 56.329880)[::-1],\n",
        "            popup = 'point_1',\n",
        "            icon = folium.Icon(color='green'))\n",
        "\n",
        "end = folium.Marker(\n",
        "            location = (43.992332, 56.329294)[::-1],\n",
        "            popup = 'end',\n",
        "            icon = folium.Icon(color='green'))\n",
        "\n",
        "start.add_to(shortest_route_map)\n",
        "end.add_to(shortest_route_map)"
      ]
    },
    {
      "cell_type": "code",
      "execution_count": 16,
      "metadata": {
        "colab": {
          "base_uri": "https://localhost:8080/",
          "height": 650
        },
        "id": "9yXorCgDtcpP",
        "outputId": "ee912e00-5bd4-43f3-c112-e89588725ffe"
      },
      "outputs": [
        {
          "data": {
            "text/html": [
              "<div style=\"width:100%;\"><div style=\"position:relative;width:100%;height:0;padding-bottom:60%;\"><span style=\"color:#565656\">Make this Notebook Trusted to load map: File -> Trust Notebook</span><iframe srcdoc=\"&lt;!DOCTYPE html&gt;\n",
              "&lt;html&gt;\n",
              "&lt;head&gt;\n",
              "    \n",
              "    &lt;meta http-equiv=&quot;content-type&quot; content=&quot;text/html; charset=UTF-8&quot; /&gt;\n",
              "    \n",
              "        &lt;script&gt;\n",
              "            L_NO_TOUCH = false;\n",
              "            L_DISABLE_3D = false;\n",
              "        &lt;/script&gt;\n",
              "    \n",
              "    &lt;style&gt;html, body {width: 100%;height: 100%;margin: 0;padding: 0;}&lt;/style&gt;\n",
              "    &lt;style&gt;#map {position:absolute;top:0;bottom:0;right:0;left:0;}&lt;/style&gt;\n",
              "    &lt;script src=&quot;https://cdn.jsdelivr.net/npm/leaflet@1.9.3/dist/leaflet.js&quot;&gt;&lt;/script&gt;\n",
              "    &lt;script src=&quot;https://code.jquery.com/jquery-1.12.4.min.js&quot;&gt;&lt;/script&gt;\n",
              "    &lt;script src=&quot;https://cdn.jsdelivr.net/npm/bootstrap@5.2.2/dist/js/bootstrap.bundle.min.js&quot;&gt;&lt;/script&gt;\n",
              "    &lt;script src=&quot;https://cdnjs.cloudflare.com/ajax/libs/Leaflet.awesome-markers/2.0.2/leaflet.awesome-markers.js&quot;&gt;&lt;/script&gt;\n",
              "    &lt;link rel=&quot;stylesheet&quot; href=&quot;https://cdn.jsdelivr.net/npm/leaflet@1.9.3/dist/leaflet.css&quot;/&gt;\n",
              "    &lt;link rel=&quot;stylesheet&quot; href=&quot;https://cdn.jsdelivr.net/npm/bootstrap@5.2.2/dist/css/bootstrap.min.css&quot;/&gt;\n",
              "    &lt;link rel=&quot;stylesheet&quot; href=&quot;https://netdna.bootstrapcdn.com/bootstrap/3.0.0/css/bootstrap.min.css&quot;/&gt;\n",
              "    &lt;link rel=&quot;stylesheet&quot; href=&quot;https://cdn.jsdelivr.net/npm/@fortawesome/fontawesome-free@6.2.0/css/all.min.css&quot;/&gt;\n",
              "    &lt;link rel=&quot;stylesheet&quot; href=&quot;https://cdnjs.cloudflare.com/ajax/libs/Leaflet.awesome-markers/2.0.2/leaflet.awesome-markers.css&quot;/&gt;\n",
              "    &lt;link rel=&quot;stylesheet&quot; href=&quot;https://cdn.jsdelivr.net/gh/python-visualization/folium/folium/templates/leaflet.awesome.rotate.min.css&quot;/&gt;\n",
              "    \n",
              "            &lt;meta name=&quot;viewport&quot; content=&quot;width=device-width,\n",
              "                initial-scale=1.0, maximum-scale=1.0, user-scalable=no&quot; /&gt;\n",
              "            &lt;style&gt;\n",
              "                #map_74d1c3dfe3cbaac0fcbf756ff6deb069 {\n",
              "                    position: relative;\n",
              "                    width: 100.0%;\n",
              "                    height: 100.0%;\n",
              "                    left: 0.0%;\n",
              "                    top: 0.0%;\n",
              "                }\n",
              "                .leaflet-container { font-size: 1rem; }\n",
              "            &lt;/style&gt;\n",
              "        \n",
              "&lt;/head&gt;\n",
              "&lt;body&gt;\n",
              "    \n",
              "    \n",
              "            &lt;div class=&quot;folium-map&quot; id=&quot;map_74d1c3dfe3cbaac0fcbf756ff6deb069&quot; &gt;&lt;/div&gt;\n",
              "        \n",
              "&lt;/body&gt;\n",
              "&lt;script&gt;\n",
              "    \n",
              "    \n",
              "            var map_74d1c3dfe3cbaac0fcbf756ff6deb069 = L.map(\n",
              "                &quot;map_74d1c3dfe3cbaac0fcbf756ff6deb069&quot;,\n",
              "                {\n",
              "                    center: [56.33004356538531, 43.991277429078266],\n",
              "                    crs: L.CRS.EPSG3857,\n",
              "                    zoom: 1,\n",
              "                    zoomControl: true,\n",
              "                    preferCanvas: false,\n",
              "                }\n",
              "            );\n",
              "\n",
              "            \n",
              "\n",
              "        \n",
              "    \n",
              "            var tile_layer_f28ba0aa56799ac0bfe074fd5f937c4a = L.tileLayer(\n",
              "                &quot;https://cartodb-basemaps-{s}.global.ssl.fastly.net/light_all/{z}/{x}/{y}.png&quot;,\n",
              "                {&quot;attribution&quot;: &quot;\\u0026copy; \\u003ca target=\\&quot;_blank\\&quot; href=\\&quot;http://www.openstreetmap.org/copyright\\&quot;\\u003eOpenStreetMap\\u003c/a\\u003e contributors \\u0026copy; \\u003ca target=\\&quot;_blank\\&quot; href=\\&quot;http://cartodb.com/attributions\\&quot;\\u003eCartoDB\\u003c/a\\u003e, CartoDB \\u003ca target=\\&quot;_blank\\&quot; href =\\&quot;http://cartodb.com/attributions\\&quot;\\u003eattributions\\u003c/a\\u003e&quot;, &quot;detectRetina&quot;: false, &quot;maxNativeZoom&quot;: 18, &quot;maxZoom&quot;: 18, &quot;minZoom&quot;: 0, &quot;noWrap&quot;: false, &quot;opacity&quot;: 1, &quot;subdomains&quot;: &quot;abc&quot;, &quot;tms&quot;: false}\n",
              "            ).addTo(map_74d1c3dfe3cbaac0fcbf756ff6deb069);\n",
              "        \n",
              "    \n",
              "            var poly_line_5ebe4efbf346741f44cf3e65b3c19c61 = L.polyline(\n",
              "                [[56.3299524, 43.9900443], [56.3301168, 43.9905994], [56.330268, 43.9911361], [56.3303145, 43.9913391], [56.3303656, 43.9915624]],\n",
              "                {&quot;bubblingMouseEvents&quot;: true, &quot;color&quot;: &quot;#3388ff&quot;, &quot;dashArray&quot;: null, &quot;dashOffset&quot;: null, &quot;fill&quot;: false, &quot;fillColor&quot;: &quot;#3388ff&quot;, &quot;fillOpacity&quot;: 0.2, &quot;fillRule&quot;: &quot;evenodd&quot;, &quot;lineCap&quot;: &quot;round&quot;, &quot;lineJoin&quot;: &quot;round&quot;, &quot;noClip&quot;: false, &quot;opacity&quot;: 1.0, &quot;smoothFactor&quot;: 1.0, &quot;stroke&quot;: true, &quot;weight&quot;: 3}\n",
              "            ).addTo(map_74d1c3dfe3cbaac0fcbf756ff6deb069);\n",
              "        \n",
              "    \n",
              "            var poly_line_8769f271fe549785eb6a2bbb80197a70 = L.polyline(\n",
              "                [[56.3303656, 43.9915624], [56.3302507, 43.9916417], [56.3302156, 43.9916663], [56.3300674, 43.9917694], [56.3300348, 43.9917927], [56.329773, 43.9919801], [56.3297462, 43.9919992], [56.3296548, 43.9920634], [56.329444, 43.9922202], [56.3293947, 43.9922556]],\n",
              "                {&quot;bubblingMouseEvents&quot;: true, &quot;color&quot;: &quot;#3388ff&quot;, &quot;dashArray&quot;: null, &quot;dashOffset&quot;: null, &quot;fill&quot;: false, &quot;fillColor&quot;: &quot;#3388ff&quot;, &quot;fillOpacity&quot;: 0.2, &quot;fillRule&quot;: &quot;evenodd&quot;, &quot;lineCap&quot;: &quot;round&quot;, &quot;lineJoin&quot;: &quot;round&quot;, &quot;noClip&quot;: false, &quot;opacity&quot;: 1.0, &quot;smoothFactor&quot;: 1.0, &quot;stroke&quot;: true, &quot;weight&quot;: 3}\n",
              "            ).addTo(map_74d1c3dfe3cbaac0fcbf756ff6deb069);\n",
              "        \n",
              "    \n",
              "            map_74d1c3dfe3cbaac0fcbf756ff6deb069.fitBounds(\n",
              "                [[56.3293947, 43.9900443], [56.3303656, 43.9922556]],\n",
              "                {}\n",
              "            );\n",
              "        \n",
              "    \n",
              "            var marker_c6b1a974c2ff66a35d254646a4edf91f = L.marker(\n",
              "                [56.330161000000004, 43.991697],\n",
              "                {}\n",
              "            ).addTo(map_74d1c3dfe3cbaac0fcbf756ff6deb069);\n",
              "        \n",
              "    \n",
              "            var icon_0ba9fdd6f408ba8daed6d9a5bc36a68b = L.AwesomeMarkers.icon(\n",
              "                {&quot;extraClasses&quot;: &quot;fa-rotate-0&quot;, &quot;icon&quot;: &quot;info-sign&quot;, &quot;iconColor&quot;: &quot;white&quot;, &quot;markerColor&quot;: &quot;red&quot;, &quot;prefix&quot;: &quot;glyphicon&quot;}\n",
              "            );\n",
              "            marker_c6b1a974c2ff66a35d254646a4edf91f.setIcon(icon_0ba9fdd6f408ba8daed6d9a5bc36a68b);\n",
              "        \n",
              "    \n",
              "        var popup_0f4ff8493fc03d420b0ad6cb470690b5 = L.popup({&quot;maxWidth&quot;: &quot;100%&quot;});\n",
              "\n",
              "        \n",
              "            \n",
              "                var html_48ec5abe442ea8b7a85f89e06043ce1b = $(`&lt;div id=&quot;html_48ec5abe442ea8b7a85f89e06043ce1b&quot; style=&quot;width: 100.0%; height: 100.0%;&quot;&gt;type: pit count: 3&lt;/div&gt;`)[0];\n",
              "                popup_0f4ff8493fc03d420b0ad6cb470690b5.setContent(html_48ec5abe442ea8b7a85f89e06043ce1b);\n",
              "            \n",
              "        \n",
              "\n",
              "        marker_c6b1a974c2ff66a35d254646a4edf91f.bindPopup(popup_0f4ff8493fc03d420b0ad6cb470690b5)\n",
              "        ;\n",
              "\n",
              "        \n",
              "    \n",
              "    \n",
              "            var marker_bef27a42642d01a181f086303e6e4b20 = L.marker(\n",
              "                [56.330107000000005, 43.991736],\n",
              "                {}\n",
              "            ).addTo(map_74d1c3dfe3cbaac0fcbf756ff6deb069);\n",
              "        \n",
              "    \n",
              "            var icon_6cca3767eed397d54ca4d6385aabcffe = L.AwesomeMarkers.icon(\n",
              "                {&quot;extraClasses&quot;: &quot;fa-rotate-0&quot;, &quot;icon&quot;: &quot;info-sign&quot;, &quot;iconColor&quot;: &quot;white&quot;, &quot;markerColor&quot;: &quot;red&quot;, &quot;prefix&quot;: &quot;glyphicon&quot;}\n",
              "            );\n",
              "            marker_bef27a42642d01a181f086303e6e4b20.setIcon(icon_6cca3767eed397d54ca4d6385aabcffe);\n",
              "        \n",
              "    \n",
              "        var popup_3e3989219a2e957aa139c5d8e33aa707 = L.popup({&quot;maxWidth&quot;: &quot;100%&quot;});\n",
              "\n",
              "        \n",
              "            \n",
              "                var html_94a734ad3a190027586ded7e9156d9e6 = $(`&lt;div id=&quot;html_94a734ad3a190027586ded7e9156d9e6&quot; style=&quot;width: 100.0%; height: 100.0%;&quot;&gt;type: pit count: 3&lt;/div&gt;`)[0];\n",
              "                popup_3e3989219a2e957aa139c5d8e33aa707.setContent(html_94a734ad3a190027586ded7e9156d9e6);\n",
              "            \n",
              "        \n",
              "\n",
              "        marker_bef27a42642d01a181f086303e6e4b20.bindPopup(popup_3e3989219a2e957aa139c5d8e33aa707)\n",
              "        ;\n",
              "\n",
              "        \n",
              "    \n",
              "    \n",
              "            var marker_5defd4d11f79299c08b415773eb6f332 = L.marker(\n",
              "                [56.330059000000006, 43.991763],\n",
              "                {}\n",
              "            ).addTo(map_74d1c3dfe3cbaac0fcbf756ff6deb069);\n",
              "        \n",
              "    \n",
              "            var icon_f2809f867fd398a338405878573a0eb6 = L.AwesomeMarkers.icon(\n",
              "                {&quot;extraClasses&quot;: &quot;fa-rotate-0&quot;, &quot;icon&quot;: &quot;info-sign&quot;, &quot;iconColor&quot;: &quot;white&quot;, &quot;markerColor&quot;: &quot;red&quot;, &quot;prefix&quot;: &quot;glyphicon&quot;}\n",
              "            );\n",
              "            marker_5defd4d11f79299c08b415773eb6f332.setIcon(icon_f2809f867fd398a338405878573a0eb6);\n",
              "        \n",
              "    \n",
              "        var popup_932cfc76ef5bffb73d1699e3bebccc17 = L.popup({&quot;maxWidth&quot;: &quot;100%&quot;});\n",
              "\n",
              "        \n",
              "            \n",
              "                var html_2b7afbd2120d86cfd534ee9e92e26962 = $(`&lt;div id=&quot;html_2b7afbd2120d86cfd534ee9e92e26962&quot; style=&quot;width: 100.0%; height: 100.0%;&quot;&gt;type: pit count: 2&lt;/div&gt;`)[0];\n",
              "                popup_932cfc76ef5bffb73d1699e3bebccc17.setContent(html_2b7afbd2120d86cfd534ee9e92e26962);\n",
              "            \n",
              "        \n",
              "\n",
              "        marker_5defd4d11f79299c08b415773eb6f332.bindPopup(popup_932cfc76ef5bffb73d1699e3bebccc17)\n",
              "        ;\n",
              "\n",
              "        \n",
              "    \n",
              "    \n",
              "            var marker_48d9b470f505662077bc6366e8de9ef4 = L.marker(\n",
              "                [56.32988, 43.990019],\n",
              "                {}\n",
              "            ).addTo(map_74d1c3dfe3cbaac0fcbf756ff6deb069);\n",
              "        \n",
              "    \n",
              "            var icon_5dd0998eca639626678b02026c1d47ee = L.AwesomeMarkers.icon(\n",
              "                {&quot;extraClasses&quot;: &quot;fa-rotate-0&quot;, &quot;icon&quot;: &quot;info-sign&quot;, &quot;iconColor&quot;: &quot;white&quot;, &quot;markerColor&quot;: &quot;green&quot;, &quot;prefix&quot;: &quot;glyphicon&quot;}\n",
              "            );\n",
              "            marker_48d9b470f505662077bc6366e8de9ef4.setIcon(icon_5dd0998eca639626678b02026c1d47ee);\n",
              "        \n",
              "    \n",
              "        var popup_a1dd2894a268df2430e8d11982577c83 = L.popup({&quot;maxWidth&quot;: &quot;100%&quot;});\n",
              "\n",
              "        \n",
              "            \n",
              "                var html_630f3d742bf3b413690f96053d2a0214 = $(`&lt;div id=&quot;html_630f3d742bf3b413690f96053d2a0214&quot; style=&quot;width: 100.0%; height: 100.0%;&quot;&gt;point_1&lt;/div&gt;`)[0];\n",
              "                popup_a1dd2894a268df2430e8d11982577c83.setContent(html_630f3d742bf3b413690f96053d2a0214);\n",
              "            \n",
              "        \n",
              "\n",
              "        marker_48d9b470f505662077bc6366e8de9ef4.bindPopup(popup_a1dd2894a268df2430e8d11982577c83)\n",
              "        ;\n",
              "\n",
              "        \n",
              "    \n",
              "    \n",
              "            var marker_e0f9970697d163fa5dc75c74b6ed20da = L.marker(\n",
              "                [56.329294, 43.992332],\n",
              "                {}\n",
              "            ).addTo(map_74d1c3dfe3cbaac0fcbf756ff6deb069);\n",
              "        \n",
              "    \n",
              "            var icon_de57eb0677b277ff7111f0a94c1c6de4 = L.AwesomeMarkers.icon(\n",
              "                {&quot;extraClasses&quot;: &quot;fa-rotate-0&quot;, &quot;icon&quot;: &quot;info-sign&quot;, &quot;iconColor&quot;: &quot;white&quot;, &quot;markerColor&quot;: &quot;green&quot;, &quot;prefix&quot;: &quot;glyphicon&quot;}\n",
              "            );\n",
              "            marker_e0f9970697d163fa5dc75c74b6ed20da.setIcon(icon_de57eb0677b277ff7111f0a94c1c6de4);\n",
              "        \n",
              "    \n",
              "        var popup_a5882d1747a98e10df51a09815fe8a27 = L.popup({&quot;maxWidth&quot;: &quot;100%&quot;});\n",
              "\n",
              "        \n",
              "            \n",
              "                var html_398c51c91ea6f10b2c42bb05b1a0f3c9 = $(`&lt;div id=&quot;html_398c51c91ea6f10b2c42bb05b1a0f3c9&quot; style=&quot;width: 100.0%; height: 100.0%;&quot;&gt;end&lt;/div&gt;`)[0];\n",
              "                popup_a5882d1747a98e10df51a09815fe8a27.setContent(html_398c51c91ea6f10b2c42bb05b1a0f3c9);\n",
              "            \n",
              "        \n",
              "\n",
              "        marker_e0f9970697d163fa5dc75c74b6ed20da.bindPopup(popup_a5882d1747a98e10df51a09815fe8a27)\n",
              "        ;\n",
              "\n",
              "        \n",
              "    \n",
              "&lt;/script&gt;\n",
              "&lt;/html&gt;\" style=\"position:absolute;width:100%;height:100%;left:0;top:0;border:none !important;\" allowfullscreen webkitallowfullscreen mozallowfullscreen></iframe></div></div>"
            ],
            "text/plain": [
              "<folium.folium.Map at 0x7f31796878d0>"
            ]
          },
          "execution_count": 16,
          "metadata": {},
          "output_type": "execute_result"
        }
      ],
      "source": [
        "shortest_route_map"
      ]
    }
  ],
  "metadata": {
    "colab": {
      "provenance": []
    },
    "kernelspec": {
      "display_name": "Python 3",
      "name": "python3"
    },
    "language_info": {
      "codemirror_mode": {
        "name": "ipython",
        "version": 3
      },
      "file_extension": ".py",
      "mimetype": "text/x-python",
      "name": "python",
      "nbconvert_exporter": "python",
      "pygments_lexer": "ipython3",
      "version": "3.11.4"
    }
  },
  "nbformat": 4,
  "nbformat_minor": 0
}
