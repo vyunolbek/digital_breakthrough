{
  "nbformat": 4,
  "nbformat_minor": 0,
  "metadata": {
    "colab": {
      "provenance": []
    },
    "kernelspec": {
      "name": "python3",
      "display_name": "Python 3"
    },
    "language_info": {
      "name": "python"
    }
  },
  "cells": [
    {
      "cell_type": "markdown",
      "source": [
        "# Run"
      ],
      "metadata": {
        "id": "PoHl2-y-agDg"
      }
    },
    {
      "cell_type": "code",
      "execution_count": 1,
      "metadata": {
        "id": "xuyDcZxP1vlY"
      },
      "outputs": [],
      "source": [
        "!rm -rf ./sample_data"
      ]
    },
    {
      "cell_type": "code",
      "source": [
        "!rm -rf /content/cache"
      ],
      "metadata": {
        "id": "9ek8EalPAyAC"
      },
      "execution_count": 185,
      "outputs": []
    },
    {
      "cell_type": "code",
      "source": [
        "%pip install osmnx scikit-learn folium"
      ],
      "metadata": {
        "id": "2A22wRGj1_bJ"
      },
      "execution_count": null,
      "outputs": []
    },
    {
      "cell_type": "code",
      "source": [
        "import osmnx as ox\n",
        "import networkx as nx"
      ],
      "metadata": {
        "id": "MGpAswTy2CVx"
      },
      "execution_count": 172,
      "outputs": []
    },
    {
      "cell_type": "code",
      "source": [
        "ox.settings.log_console=True"
      ],
      "metadata": {
        "id": "3D5KnRA_2FOD"
      },
      "execution_count": 173,
      "outputs": []
    },
    {
      "cell_type": "code",
      "source": [
        "start_point = (43.990019, 56.329880)\n",
        "end_point = (43.992332, 56.329294)"
      ],
      "metadata": {
        "id": "RnsGnShO2G18"
      },
      "execution_count": 214,
      "outputs": []
    },
    {
      "cell_type": "code",
      "source": [
        "place = \"Nizhniy Novgorod\"\n",
        "mode = \"drive\"\n",
        "optimizer = \"time\""
      ],
      "metadata": {
        "id": "8bz90vzc2If3"
      },
      "execution_count": 215,
      "outputs": []
    },
    {
      "cell_type": "code",
      "source": [
        "graph = ox.graph_from_place(place, network_type=mode)"
      ],
      "metadata": {
        "id": "Q519w_IU2KPT"
      },
      "execution_count": 196,
      "outputs": []
    },
    {
      "cell_type": "code",
      "source": [
        "orig_node = ox.distance.nearest_nodes(graph, start_point[0], start_point[1])\n",
        "dest_node = ox.distance.nearest_nodes(graph, end_point[0], end_point[1])"
      ],
      "metadata": {
        "id": "bDSfmTFD2MYN"
      },
      "execution_count": 216,
      "outputs": []
    },
    {
      "cell_type": "code",
      "source": [
        "shortest_route = nx.shortest_path(graph,\n",
        "                                  orig_node,\n",
        "                                  dest_node,\n",
        "                                  weight=optimizer)"
      ],
      "metadata": {
        "id": "_YT_HnNH4jl3"
      },
      "execution_count": 217,
      "outputs": []
    },
    {
      "cell_type": "code",
      "source": [
        "shortest_route_map = ox.plot_route_folium(graph, shortest_route)"
      ],
      "metadata": {
        "colab": {
          "base_uri": "https://localhost:8080/"
        },
        "id": "vx9DGIjY4mK8",
        "outputId": "e80b3c1d-3fbf-4111-c8a1-1adaa5377b18"
      },
      "execution_count": 218,
      "outputs": [
        {
          "output_type": "stream",
          "name": "stderr",
          "text": [
            "<ipython-input-218-cdbc512900a6>:1: UserWarning: The `folium` module has been deprecated and will be removed in a future release. You can generate and explore interactive web maps of graph nodes, edges, and/or routes automatically using GeoPandas.GeoDataFrame.explore instead, for example like: `ox.graph_to_gdfs(G, nodes=False).explore()`. See the OSMnx examples gallery for complete details and demonstrations.\n",
            "  shortest_route_map = ox.plot_route_folium(graph, shortest_route)\n"
          ]
        }
      ]
    },
    {
      "cell_type": "code",
      "source": [
        "shortest_route_map"
      ],
      "metadata": {
        "colab": {
          "base_uri": "https://localhost:8080/",
          "height": 648
        },
        "id": "5bHASe9v4ofE",
        "outputId": "2584fe9e-6546-4845-8997-ab06513fadde"
      },
      "execution_count": 219,
      "outputs": [
        {
          "output_type": "execute_result",
          "data": {
            "text/plain": [
              "<folium.folium.Map at 0x7ac10cabfc10>"
            ],
            "text/html": [
              "<div style=\"width:100%;\"><div style=\"position:relative;width:100%;height:0;padding-bottom:60%;\"><span style=\"color:#565656\">Make this Notebook Trusted to load map: File -> Trust Notebook</span><iframe srcdoc=\"&lt;!DOCTYPE html&gt;\n",
              "&lt;html&gt;\n",
              "&lt;head&gt;\n",
              "    \n",
              "    &lt;meta http-equiv=&quot;content-type&quot; content=&quot;text/html; charset=UTF-8&quot; /&gt;\n",
              "    \n",
              "        &lt;script&gt;\n",
              "            L_NO_TOUCH = false;\n",
              "            L_DISABLE_3D = false;\n",
              "        &lt;/script&gt;\n",
              "    \n",
              "    &lt;style&gt;html, body {width: 100%;height: 100%;margin: 0;padding: 0;}&lt;/style&gt;\n",
              "    &lt;style&gt;#map {position:absolute;top:0;bottom:0;right:0;left:0;}&lt;/style&gt;\n",
              "    &lt;script src=&quot;https://cdn.jsdelivr.net/npm/leaflet@1.9.3/dist/leaflet.js&quot;&gt;&lt;/script&gt;\n",
              "    &lt;script src=&quot;https://code.jquery.com/jquery-1.12.4.min.js&quot;&gt;&lt;/script&gt;\n",
              "    &lt;script src=&quot;https://cdn.jsdelivr.net/npm/bootstrap@5.2.2/dist/js/bootstrap.bundle.min.js&quot;&gt;&lt;/script&gt;\n",
              "    &lt;script src=&quot;https://cdnjs.cloudflare.com/ajax/libs/Leaflet.awesome-markers/2.0.2/leaflet.awesome-markers.js&quot;&gt;&lt;/script&gt;\n",
              "    &lt;link rel=&quot;stylesheet&quot; href=&quot;https://cdn.jsdelivr.net/npm/leaflet@1.9.3/dist/leaflet.css&quot;/&gt;\n",
              "    &lt;link rel=&quot;stylesheet&quot; href=&quot;https://cdn.jsdelivr.net/npm/bootstrap@5.2.2/dist/css/bootstrap.min.css&quot;/&gt;\n",
              "    &lt;link rel=&quot;stylesheet&quot; href=&quot;https://netdna.bootstrapcdn.com/bootstrap/3.0.0/css/bootstrap.min.css&quot;/&gt;\n",
              "    &lt;link rel=&quot;stylesheet&quot; href=&quot;https://cdn.jsdelivr.net/npm/@fortawesome/fontawesome-free@6.2.0/css/all.min.css&quot;/&gt;\n",
              "    &lt;link rel=&quot;stylesheet&quot; href=&quot;https://cdnjs.cloudflare.com/ajax/libs/Leaflet.awesome-markers/2.0.2/leaflet.awesome-markers.css&quot;/&gt;\n",
              "    &lt;link rel=&quot;stylesheet&quot; href=&quot;https://cdn.jsdelivr.net/gh/python-visualization/folium/folium/templates/leaflet.awesome.rotate.min.css&quot;/&gt;\n",
              "    \n",
              "            &lt;meta name=&quot;viewport&quot; content=&quot;width=device-width,\n",
              "                initial-scale=1.0, maximum-scale=1.0, user-scalable=no&quot; /&gt;\n",
              "            &lt;style&gt;\n",
              "                #map_c7e342a6f491878e39071ece443b4541 {\n",
              "                    position: relative;\n",
              "                    width: 100.0%;\n",
              "                    height: 100.0%;\n",
              "                    left: 0.0%;\n",
              "                    top: 0.0%;\n",
              "                }\n",
              "                .leaflet-container { font-size: 1rem; }\n",
              "            &lt;/style&gt;\n",
              "        \n",
              "&lt;/head&gt;\n",
              "&lt;body&gt;\n",
              "    \n",
              "    \n",
              "            &lt;div class=&quot;folium-map&quot; id=&quot;map_c7e342a6f491878e39071ece443b4541&quot; &gt;&lt;/div&gt;\n",
              "        \n",
              "&lt;/body&gt;\n",
              "&lt;script&gt;\n",
              "    \n",
              "    \n",
              "            var map_c7e342a6f491878e39071ece443b4541 = L.map(\n",
              "                &quot;map_c7e342a6f491878e39071ece443b4541&quot;,\n",
              "                {\n",
              "                    center: [56.33004356538531, 43.991277429078266],\n",
              "                    crs: L.CRS.EPSG3857,\n",
              "                    zoom: 1,\n",
              "                    zoomControl: true,\n",
              "                    preferCanvas: false,\n",
              "                }\n",
              "            );\n",
              "\n",
              "            \n",
              "\n",
              "        \n",
              "    \n",
              "            var tile_layer_afe0a5dc91cc9fc101b32bffd6eab472 = L.tileLayer(\n",
              "                &quot;https://cartodb-basemaps-{s}.global.ssl.fastly.net/light_all/{z}/{x}/{y}.png&quot;,\n",
              "                {&quot;attribution&quot;: &quot;\\u0026copy; \\u003ca target=\\&quot;_blank\\&quot; href=\\&quot;http://www.openstreetmap.org/copyright\\&quot;\\u003eOpenStreetMap\\u003c/a\\u003e contributors \\u0026copy; \\u003ca target=\\&quot;_blank\\&quot; href=\\&quot;http://cartodb.com/attributions\\&quot;\\u003eCartoDB\\u003c/a\\u003e, CartoDB \\u003ca target=\\&quot;_blank\\&quot; href =\\&quot;http://cartodb.com/attributions\\&quot;\\u003eattributions\\u003c/a\\u003e&quot;, &quot;detectRetina&quot;: false, &quot;maxNativeZoom&quot;: 18, &quot;maxZoom&quot;: 18, &quot;minZoom&quot;: 0, &quot;noWrap&quot;: false, &quot;opacity&quot;: 1, &quot;subdomains&quot;: &quot;abc&quot;, &quot;tms&quot;: false}\n",
              "            ).addTo(map_c7e342a6f491878e39071ece443b4541);\n",
              "        \n",
              "    \n",
              "            var poly_line_dc325f561962db70993fff858991ac1a = L.polyline(\n",
              "                [[56.3299524, 43.9900443], [56.3301168, 43.9905994], [56.330268, 43.9911361], [56.3303145, 43.9913391], [56.3303656, 43.9915624]],\n",
              "                {&quot;bubblingMouseEvents&quot;: true, &quot;color&quot;: &quot;#3388ff&quot;, &quot;dashArray&quot;: null, &quot;dashOffset&quot;: null, &quot;fill&quot;: false, &quot;fillColor&quot;: &quot;#3388ff&quot;, &quot;fillOpacity&quot;: 0.2, &quot;fillRule&quot;: &quot;evenodd&quot;, &quot;lineCap&quot;: &quot;round&quot;, &quot;lineJoin&quot;: &quot;round&quot;, &quot;noClip&quot;: false, &quot;opacity&quot;: 1.0, &quot;smoothFactor&quot;: 1.0, &quot;stroke&quot;: true, &quot;weight&quot;: 3}\n",
              "            ).addTo(map_c7e342a6f491878e39071ece443b4541);\n",
              "        \n",
              "    \n",
              "            var poly_line_4134e94989535d7d519519b0e36157b8 = L.polyline(\n",
              "                [[56.3303656, 43.9915624], [56.3302507, 43.9916417], [56.3302156, 43.9916663], [56.3300674, 43.9917694], [56.3300348, 43.9917927], [56.329773, 43.9919801], [56.3297462, 43.9919992], [56.3296548, 43.9920634], [56.329444, 43.9922202], [56.3293947, 43.9922556]],\n",
              "                {&quot;bubblingMouseEvents&quot;: true, &quot;color&quot;: &quot;#3388ff&quot;, &quot;dashArray&quot;: null, &quot;dashOffset&quot;: null, &quot;fill&quot;: false, &quot;fillColor&quot;: &quot;#3388ff&quot;, &quot;fillOpacity&quot;: 0.2, &quot;fillRule&quot;: &quot;evenodd&quot;, &quot;lineCap&quot;: &quot;round&quot;, &quot;lineJoin&quot;: &quot;round&quot;, &quot;noClip&quot;: false, &quot;opacity&quot;: 1.0, &quot;smoothFactor&quot;: 1.0, &quot;stroke&quot;: true, &quot;weight&quot;: 3}\n",
              "            ).addTo(map_c7e342a6f491878e39071ece443b4541);\n",
              "        \n",
              "    \n",
              "            map_c7e342a6f491878e39071ece443b4541.fitBounds(\n",
              "                [[56.3293947, 43.9900443], [56.3303656, 43.9922556]],\n",
              "                {}\n",
              "            );\n",
              "        \n",
              "&lt;/script&gt;\n",
              "&lt;/html&gt;\" style=\"position:absolute;width:100%;height:100%;left:0;top:0;border:none !important;\" allowfullscreen webkitallowfullscreen mozallowfullscreen></iframe></div></div>"
            ]
          },
          "metadata": {},
          "execution_count": 219
        }
      ]
    },
    {
      "cell_type": "markdown",
      "source": [
        "# No touch"
      ],
      "metadata": {
        "id": "J4skTyuEaaHb"
      }
    },
    {
      "cell_type": "code",
      "source": [
        "points = graph.nodes"
      ],
      "metadata": {
        "id": "pAIPuS1GHBBp"
      },
      "execution_count": 129,
      "outputs": []
    },
    {
      "cell_type": "code",
      "source": [
        "node0 = graph.nodes(data=True)[1015764495]\n",
        "node1 = graph.nodes(data=True)[5324295544]\n",
        "node2 = graph.nodes(data=True)[9462848289]"
      ],
      "metadata": {
        "id": "BuWR847IHadR"
      },
      "execution_count": 130,
      "outputs": []
    },
    {
      "cell_type": "code",
      "source": [
        "start_point = (37.605693, 55.764656)\n",
        "end_point = (37.645173, 55.759259)\n",
        "\n",
        "osm_node0_xy = (node0['x'], node0['y'])\n",
        "osm_node1_xy = (node0['x'], node0['y'])\n",
        "osm_node2_xy = (node0['x'], node0['y'])\n",
        "\n",
        "folium_node0_xy = (node0['x'], node0['y'])[::-1]\n",
        "folium_node1_xy = (node1['x'], node1['y'])[::-1]\n",
        "folium_node2_xy = (node1['x'], node1['y'])[::-1]"
      ],
      "metadata": {
        "id": "YaE7DgBsKAm4"
      },
      "execution_count": 148,
      "outputs": []
    },
    {
      "cell_type": "markdown",
      "source": [
        "# Run"
      ],
      "metadata": {
        "id": "XnLy_GKUadyW"
      }
    },
    {
      "cell_type": "code",
      "source": [
        "import folium\n",
        "\n",
        "start = folium.Marker(\n",
        "            location = (43.990019, 56.329880)[::-1],\n",
        "            popup = 'point_1',\n",
        "            icon = folium.Icon(color='green'))\n",
        "\n",
        "pit1 = folium.Marker(\n",
        "            location = (56.330182, 43.991681),\n",
        "            popup = 'pit_1',\n",
        "            icon = folium.Icon(color='red'))\n",
        "\n",
        "\n",
        "pit2 = folium.Marker(\n",
        "            location = (56.329798, 43.991969),\n",
        "            popup = 'pit_3',\n",
        "            icon = folium.Icon(color='red'))\n",
        "\n",
        "\n",
        "pit3 = folium.Marker(\n",
        "            location = (56.329593, 43.992115),\n",
        "            popup = 'pit_3',\n",
        "            icon = folium.Icon(color='red'))\n",
        "\n",
        "\n",
        "end = folium.Marker(\n",
        "            location = (43.992332, 56.329294)[::-1],\n",
        "            popup = 'end',\n",
        "            icon = folium.Icon(color='green'))\n",
        "\n",
        "\n",
        "start.add_to(shortest_route_map)\n",
        "pit1.add_to(shortest_route_map)\n",
        "pit2.add_to(shortest_route_map)\n",
        "pit3.add_to(shortest_route_map)\n",
        "end.add_to(shortest_route_map)\n",
        "shortest_route_map"
      ],
      "metadata": {
        "colab": {
          "base_uri": "https://localhost:8080/",
          "height": 648
        },
        "id": "oWe0lFSg5R0h",
        "outputId": "ac3a2065-290d-4f05-d75d-30a083b09541"
      },
      "execution_count": 221,
      "outputs": [
        {
          "output_type": "execute_result",
          "data": {
            "text/plain": [
              "<folium.folium.Map at 0x7ac10cabfc10>"
            ],
            "text/html": [
              "<div style=\"width:100%;\"><div style=\"position:relative;width:100%;height:0;padding-bottom:60%;\"><span style=\"color:#565656\">Make this Notebook Trusted to load map: File -> Trust Notebook</span><iframe srcdoc=\"&lt;!DOCTYPE html&gt;\n",
              "&lt;html&gt;\n",
              "&lt;head&gt;\n",
              "    \n",
              "    &lt;meta http-equiv=&quot;content-type&quot; content=&quot;text/html; charset=UTF-8&quot; /&gt;\n",
              "    \n",
              "        &lt;script&gt;\n",
              "            L_NO_TOUCH = false;\n",
              "            L_DISABLE_3D = false;\n",
              "        &lt;/script&gt;\n",
              "    \n",
              "    &lt;style&gt;html, body {width: 100%;height: 100%;margin: 0;padding: 0;}&lt;/style&gt;\n",
              "    &lt;style&gt;#map {position:absolute;top:0;bottom:0;right:0;left:0;}&lt;/style&gt;\n",
              "    &lt;script src=&quot;https://cdn.jsdelivr.net/npm/leaflet@1.9.3/dist/leaflet.js&quot;&gt;&lt;/script&gt;\n",
              "    &lt;script src=&quot;https://code.jquery.com/jquery-1.12.4.min.js&quot;&gt;&lt;/script&gt;\n",
              "    &lt;script src=&quot;https://cdn.jsdelivr.net/npm/bootstrap@5.2.2/dist/js/bootstrap.bundle.min.js&quot;&gt;&lt;/script&gt;\n",
              "    &lt;script src=&quot;https://cdnjs.cloudflare.com/ajax/libs/Leaflet.awesome-markers/2.0.2/leaflet.awesome-markers.js&quot;&gt;&lt;/script&gt;\n",
              "    &lt;link rel=&quot;stylesheet&quot; href=&quot;https://cdn.jsdelivr.net/npm/leaflet@1.9.3/dist/leaflet.css&quot;/&gt;\n",
              "    &lt;link rel=&quot;stylesheet&quot; href=&quot;https://cdn.jsdelivr.net/npm/bootstrap@5.2.2/dist/css/bootstrap.min.css&quot;/&gt;\n",
              "    &lt;link rel=&quot;stylesheet&quot; href=&quot;https://netdna.bootstrapcdn.com/bootstrap/3.0.0/css/bootstrap.min.css&quot;/&gt;\n",
              "    &lt;link rel=&quot;stylesheet&quot; href=&quot;https://cdn.jsdelivr.net/npm/@fortawesome/fontawesome-free@6.2.0/css/all.min.css&quot;/&gt;\n",
              "    &lt;link rel=&quot;stylesheet&quot; href=&quot;https://cdnjs.cloudflare.com/ajax/libs/Leaflet.awesome-markers/2.0.2/leaflet.awesome-markers.css&quot;/&gt;\n",
              "    &lt;link rel=&quot;stylesheet&quot; href=&quot;https://cdn.jsdelivr.net/gh/python-visualization/folium/folium/templates/leaflet.awesome.rotate.min.css&quot;/&gt;\n",
              "    \n",
              "            &lt;meta name=&quot;viewport&quot; content=&quot;width=device-width,\n",
              "                initial-scale=1.0, maximum-scale=1.0, user-scalable=no&quot; /&gt;\n",
              "            &lt;style&gt;\n",
              "                #map_c7e342a6f491878e39071ece443b4541 {\n",
              "                    position: relative;\n",
              "                    width: 100.0%;\n",
              "                    height: 100.0%;\n",
              "                    left: 0.0%;\n",
              "                    top: 0.0%;\n",
              "                }\n",
              "                .leaflet-container { font-size: 1rem; }\n",
              "            &lt;/style&gt;\n",
              "        \n",
              "&lt;/head&gt;\n",
              "&lt;body&gt;\n",
              "    \n",
              "    \n",
              "            &lt;div class=&quot;folium-map&quot; id=&quot;map_c7e342a6f491878e39071ece443b4541&quot; &gt;&lt;/div&gt;\n",
              "        \n",
              "&lt;/body&gt;\n",
              "&lt;script&gt;\n",
              "    \n",
              "    \n",
              "            var map_c7e342a6f491878e39071ece443b4541 = L.map(\n",
              "                &quot;map_c7e342a6f491878e39071ece443b4541&quot;,\n",
              "                {\n",
              "                    center: [56.33004356538531, 43.991277429078266],\n",
              "                    crs: L.CRS.EPSG3857,\n",
              "                    zoom: 1,\n",
              "                    zoomControl: true,\n",
              "                    preferCanvas: false,\n",
              "                }\n",
              "            );\n",
              "\n",
              "            \n",
              "\n",
              "        \n",
              "    \n",
              "            var tile_layer_afe0a5dc91cc9fc101b32bffd6eab472 = L.tileLayer(\n",
              "                &quot;https://cartodb-basemaps-{s}.global.ssl.fastly.net/light_all/{z}/{x}/{y}.png&quot;,\n",
              "                {&quot;attribution&quot;: &quot;\\u0026copy; \\u003ca target=\\&quot;_blank\\&quot; href=\\&quot;http://www.openstreetmap.org/copyright\\&quot;\\u003eOpenStreetMap\\u003c/a\\u003e contributors \\u0026copy; \\u003ca target=\\&quot;_blank\\&quot; href=\\&quot;http://cartodb.com/attributions\\&quot;\\u003eCartoDB\\u003c/a\\u003e, CartoDB \\u003ca target=\\&quot;_blank\\&quot; href =\\&quot;http://cartodb.com/attributions\\&quot;\\u003eattributions\\u003c/a\\u003e&quot;, &quot;detectRetina&quot;: false, &quot;maxNativeZoom&quot;: 18, &quot;maxZoom&quot;: 18, &quot;minZoom&quot;: 0, &quot;noWrap&quot;: false, &quot;opacity&quot;: 1, &quot;subdomains&quot;: &quot;abc&quot;, &quot;tms&quot;: false}\n",
              "            ).addTo(map_c7e342a6f491878e39071ece443b4541);\n",
              "        \n",
              "    \n",
              "            var poly_line_dc325f561962db70993fff858991ac1a = L.polyline(\n",
              "                [[56.3299524, 43.9900443], [56.3301168, 43.9905994], [56.330268, 43.9911361], [56.3303145, 43.9913391], [56.3303656, 43.9915624]],\n",
              "                {&quot;bubblingMouseEvents&quot;: true, &quot;color&quot;: &quot;#3388ff&quot;, &quot;dashArray&quot;: null, &quot;dashOffset&quot;: null, &quot;fill&quot;: false, &quot;fillColor&quot;: &quot;#3388ff&quot;, &quot;fillOpacity&quot;: 0.2, &quot;fillRule&quot;: &quot;evenodd&quot;, &quot;lineCap&quot;: &quot;round&quot;, &quot;lineJoin&quot;: &quot;round&quot;, &quot;noClip&quot;: false, &quot;opacity&quot;: 1.0, &quot;smoothFactor&quot;: 1.0, &quot;stroke&quot;: true, &quot;weight&quot;: 3}\n",
              "            ).addTo(map_c7e342a6f491878e39071ece443b4541);\n",
              "        \n",
              "    \n",
              "            var poly_line_4134e94989535d7d519519b0e36157b8 = L.polyline(\n",
              "                [[56.3303656, 43.9915624], [56.3302507, 43.9916417], [56.3302156, 43.9916663], [56.3300674, 43.9917694], [56.3300348, 43.9917927], [56.329773, 43.9919801], [56.3297462, 43.9919992], [56.3296548, 43.9920634], [56.329444, 43.9922202], [56.3293947, 43.9922556]],\n",
              "                {&quot;bubblingMouseEvents&quot;: true, &quot;color&quot;: &quot;#3388ff&quot;, &quot;dashArray&quot;: null, &quot;dashOffset&quot;: null, &quot;fill&quot;: false, &quot;fillColor&quot;: &quot;#3388ff&quot;, &quot;fillOpacity&quot;: 0.2, &quot;fillRule&quot;: &quot;evenodd&quot;, &quot;lineCap&quot;: &quot;round&quot;, &quot;lineJoin&quot;: &quot;round&quot;, &quot;noClip&quot;: false, &quot;opacity&quot;: 1.0, &quot;smoothFactor&quot;: 1.0, &quot;stroke&quot;: true, &quot;weight&quot;: 3}\n",
              "            ).addTo(map_c7e342a6f491878e39071ece443b4541);\n",
              "        \n",
              "    \n",
              "            map_c7e342a6f491878e39071ece443b4541.fitBounds(\n",
              "                [[56.3293947, 43.9900443], [56.3303656, 43.9922556]],\n",
              "                {}\n",
              "            );\n",
              "        \n",
              "    \n",
              "            var marker_efc63df28aa64f80aa371f20fac2e65f = L.marker(\n",
              "                [56.32988, 43.990019],\n",
              "                {}\n",
              "            ).addTo(map_c7e342a6f491878e39071ece443b4541);\n",
              "        \n",
              "    \n",
              "            var icon_c3016b6b20e4cc6c256516101964275b = L.AwesomeMarkers.icon(\n",
              "                {&quot;extraClasses&quot;: &quot;fa-rotate-0&quot;, &quot;icon&quot;: &quot;info-sign&quot;, &quot;iconColor&quot;: &quot;white&quot;, &quot;markerColor&quot;: &quot;green&quot;, &quot;prefix&quot;: &quot;glyphicon&quot;}\n",
              "            );\n",
              "            marker_efc63df28aa64f80aa371f20fac2e65f.setIcon(icon_c3016b6b20e4cc6c256516101964275b);\n",
              "        \n",
              "    \n",
              "        var popup_bbf76310638b90e8f0c065bcffdd26be = L.popup({&quot;maxWidth&quot;: &quot;100%&quot;});\n",
              "\n",
              "        \n",
              "            \n",
              "                var html_22085a16f9d2372ba5d49ad00b5c7d38 = $(`&lt;div id=&quot;html_22085a16f9d2372ba5d49ad00b5c7d38&quot; style=&quot;width: 100.0%; height: 100.0%;&quot;&gt;point_1&lt;/div&gt;`)[0];\n",
              "                popup_bbf76310638b90e8f0c065bcffdd26be.setContent(html_22085a16f9d2372ba5d49ad00b5c7d38);\n",
              "            \n",
              "        \n",
              "\n",
              "        marker_efc63df28aa64f80aa371f20fac2e65f.bindPopup(popup_bbf76310638b90e8f0c065bcffdd26be)\n",
              "        ;\n",
              "\n",
              "        \n",
              "    \n",
              "    \n",
              "            var marker_29a8cc1d3341fb30c1e688878117ce16 = L.marker(\n",
              "                [56.330182, 43.991681],\n",
              "                {}\n",
              "            ).addTo(map_c7e342a6f491878e39071ece443b4541);\n",
              "        \n",
              "    \n",
              "            var icon_2238f18c61cd19f0856ca65989ade89a = L.AwesomeMarkers.icon(\n",
              "                {&quot;extraClasses&quot;: &quot;fa-rotate-0&quot;, &quot;icon&quot;: &quot;info-sign&quot;, &quot;iconColor&quot;: &quot;white&quot;, &quot;markerColor&quot;: &quot;red&quot;, &quot;prefix&quot;: &quot;glyphicon&quot;}\n",
              "            );\n",
              "            marker_29a8cc1d3341fb30c1e688878117ce16.setIcon(icon_2238f18c61cd19f0856ca65989ade89a);\n",
              "        \n",
              "    \n",
              "        var popup_75bd22ea90f997c29d3571ef5b1b2a7f = L.popup({&quot;maxWidth&quot;: &quot;100%&quot;});\n",
              "\n",
              "        \n",
              "            \n",
              "                var html_e86edba5f4abc338363c26c3c32816ea = $(`&lt;div id=&quot;html_e86edba5f4abc338363c26c3c32816ea&quot; style=&quot;width: 100.0%; height: 100.0%;&quot;&gt;pit_1&lt;/div&gt;`)[0];\n",
              "                popup_75bd22ea90f997c29d3571ef5b1b2a7f.setContent(html_e86edba5f4abc338363c26c3c32816ea);\n",
              "            \n",
              "        \n",
              "\n",
              "        marker_29a8cc1d3341fb30c1e688878117ce16.bindPopup(popup_75bd22ea90f997c29d3571ef5b1b2a7f)\n",
              "        ;\n",
              "\n",
              "        \n",
              "    \n",
              "    \n",
              "            var marker_c89f1776f89afdb73ae129675499da91 = L.marker(\n",
              "                [56.329798, 43.991969],\n",
              "                {}\n",
              "            ).addTo(map_c7e342a6f491878e39071ece443b4541);\n",
              "        \n",
              "    \n",
              "            var icon_b86f7fa52419f7fd78213c2b714dea89 = L.AwesomeMarkers.icon(\n",
              "                {&quot;extraClasses&quot;: &quot;fa-rotate-0&quot;, &quot;icon&quot;: &quot;info-sign&quot;, &quot;iconColor&quot;: &quot;white&quot;, &quot;markerColor&quot;: &quot;red&quot;, &quot;prefix&quot;: &quot;glyphicon&quot;}\n",
              "            );\n",
              "            marker_c89f1776f89afdb73ae129675499da91.setIcon(icon_b86f7fa52419f7fd78213c2b714dea89);\n",
              "        \n",
              "    \n",
              "        var popup_d165ccba6ea0cd8727c796d824b022a7 = L.popup({&quot;maxWidth&quot;: &quot;100%&quot;});\n",
              "\n",
              "        \n",
              "            \n",
              "                var html_8f835ce92a7698a49617f13efa170570 = $(`&lt;div id=&quot;html_8f835ce92a7698a49617f13efa170570&quot; style=&quot;width: 100.0%; height: 100.0%;&quot;&gt;pit_3&lt;/div&gt;`)[0];\n",
              "                popup_d165ccba6ea0cd8727c796d824b022a7.setContent(html_8f835ce92a7698a49617f13efa170570);\n",
              "            \n",
              "        \n",
              "\n",
              "        marker_c89f1776f89afdb73ae129675499da91.bindPopup(popup_d165ccba6ea0cd8727c796d824b022a7)\n",
              "        ;\n",
              "\n",
              "        \n",
              "    \n",
              "    \n",
              "            var marker_8d085abf9bcf4b9ad5a47cb0dd86baaa = L.marker(\n",
              "                [56.329593, 43.992115],\n",
              "                {}\n",
              "            ).addTo(map_c7e342a6f491878e39071ece443b4541);\n",
              "        \n",
              "    \n",
              "            var icon_9bbad1c49210bafb8f890044ebc4b6dd = L.AwesomeMarkers.icon(\n",
              "                {&quot;extraClasses&quot;: &quot;fa-rotate-0&quot;, &quot;icon&quot;: &quot;info-sign&quot;, &quot;iconColor&quot;: &quot;white&quot;, &quot;markerColor&quot;: &quot;red&quot;, &quot;prefix&quot;: &quot;glyphicon&quot;}\n",
              "            );\n",
              "            marker_8d085abf9bcf4b9ad5a47cb0dd86baaa.setIcon(icon_9bbad1c49210bafb8f890044ebc4b6dd);\n",
              "        \n",
              "    \n",
              "        var popup_90de7e8279239a8aebb62ba9eaae87b4 = L.popup({&quot;maxWidth&quot;: &quot;100%&quot;});\n",
              "\n",
              "        \n",
              "            \n",
              "                var html_fd13c1aa4f2ec14c6b94b87c5e8df4df = $(`&lt;div id=&quot;html_fd13c1aa4f2ec14c6b94b87c5e8df4df&quot; style=&quot;width: 100.0%; height: 100.0%;&quot;&gt;pit_3&lt;/div&gt;`)[0];\n",
              "                popup_90de7e8279239a8aebb62ba9eaae87b4.setContent(html_fd13c1aa4f2ec14c6b94b87c5e8df4df);\n",
              "            \n",
              "        \n",
              "\n",
              "        marker_8d085abf9bcf4b9ad5a47cb0dd86baaa.bindPopup(popup_90de7e8279239a8aebb62ba9eaae87b4)\n",
              "        ;\n",
              "\n",
              "        \n",
              "    \n",
              "    \n",
              "            var marker_35f0fb1f010e18b8ea8c07215fa8d980 = L.marker(\n",
              "                [56.329294, 43.992332],\n",
              "                {}\n",
              "            ).addTo(map_c7e342a6f491878e39071ece443b4541);\n",
              "        \n",
              "    \n",
              "            var icon_d58a695cabcd78124284c171b8a15c67 = L.AwesomeMarkers.icon(\n",
              "                {&quot;extraClasses&quot;: &quot;fa-rotate-0&quot;, &quot;icon&quot;: &quot;info-sign&quot;, &quot;iconColor&quot;: &quot;white&quot;, &quot;markerColor&quot;: &quot;green&quot;, &quot;prefix&quot;: &quot;glyphicon&quot;}\n",
              "            );\n",
              "            marker_35f0fb1f010e18b8ea8c07215fa8d980.setIcon(icon_d58a695cabcd78124284c171b8a15c67);\n",
              "        \n",
              "    \n",
              "        var popup_390f74be9c0f22e73da88a547f85fb59 = L.popup({&quot;maxWidth&quot;: &quot;100%&quot;});\n",
              "\n",
              "        \n",
              "            \n",
              "                var html_a2418f15257cfa797b36e06a2fe2b524 = $(`&lt;div id=&quot;html_a2418f15257cfa797b36e06a2fe2b524&quot; style=&quot;width: 100.0%; height: 100.0%;&quot;&gt;end&lt;/div&gt;`)[0];\n",
              "                popup_390f74be9c0f22e73da88a547f85fb59.setContent(html_a2418f15257cfa797b36e06a2fe2b524);\n",
              "            \n",
              "        \n",
              "\n",
              "        marker_35f0fb1f010e18b8ea8c07215fa8d980.bindPopup(popup_390f74be9c0f22e73da88a547f85fb59)\n",
              "        ;\n",
              "\n",
              "        \n",
              "    \n",
              "&lt;/script&gt;\n",
              "&lt;/html&gt;\" style=\"position:absolute;width:100%;height:100%;left:0;top:0;border:none !important;\" allowfullscreen webkitallowfullscreen mozallowfullscreen></iframe></div></div>"
            ]
          },
          "metadata": {},
          "execution_count": 221
        }
      ]
    }
  ]
}